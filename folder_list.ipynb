{
 "cells": [
  {
   "cell_type": "code",
   "execution_count": 13,
   "id": "08a201a8",
   "metadata": {},
   "outputs": [],
   "source": [
    "import os\n",
    "from openpyxl import Workbook"
   ]
  },
  {
   "cell_type": "code",
   "execution_count": 14,
   "id": "c0c5405a",
   "metadata": {},
   "outputs": [],
   "source": [
    "folder_list = list(os.listdir(\"C:/Users/User/Desktop/work/(부시똘)공사현장사진\"))"
   ]
  },
  {
   "cell_type": "code",
   "execution_count": 22,
   "id": "18f15e5e",
   "metadata": {},
   "outputs": [],
   "source": [
    "wb = Workbook()\n",
    "ws = wb.active\n",
    "ws.title = '(부시똘)공사현장사진'\n",
    "for i, j in enumerate(folder_list):\n",
    "    ws.cell(column = 1, row = i+1, value = j)\n",
    "\n",
    "wb.save('(부시똘)공사현장사진.xlsx')\n"
   ]
  },
  {
   "cell_type": "code",
   "execution_count": null,
   "id": "3e1d4792",
   "metadata": {},
   "outputs": [],
   "source": []
  }
 ],
 "metadata": {
  "kernelspec": {
   "display_name": "Python 3 (ipykernel)",
   "language": "python",
   "name": "python3"
  },
  "language_info": {
   "codemirror_mode": {
    "name": "ipython",
    "version": 3
   },
   "file_extension": ".py",
   "mimetype": "text/x-python",
   "name": "python",
   "nbconvert_exporter": "python",
   "pygments_lexer": "ipython3",
   "version": "3.9.7"
  }
 },
 "nbformat": 4,
 "nbformat_minor": 5
}
